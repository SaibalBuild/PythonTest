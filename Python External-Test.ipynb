{
 "cells": [
  {
   "cell_type": "markdown",
   "metadata": {},
   "source": [
    "### Write a function to check if a given number is prime or not, call the function for few sample numbers and record the output"
   ]
  },
  {
   "cell_type": "code",
   "execution_count": 3,
   "metadata": {},
   "outputs": [
    {
     "name": "stdout",
     "output_type": "stream",
     "text": [
      "Prime numbers are : 3,5,7,11,13,17,19,23,29,31,37,41,43,47,53,59,61,67,71,73,79,83,89,97,101,103,107,109,"
     ]
    }
   ],
   "source": [
    "def isPrime(x):\n",
    "    if x <= 2 :\n",
    "        return False\n",
    "    else:\n",
    "        for i in range(2,x):\n",
    "            if (x%i==0):\n",
    "                return False\n",
    "        return True\n",
    "    \n",
    "print(\"Prime numbers are \",end=\": \")\n",
    "for x in range(1,110):\n",
    "    if isPrime(x):\n",
    "        print(x,end=',')"
   ]
  },
  {
   "cell_type": "markdown",
   "metadata": {},
   "source": [
    "### Write a function to check if the year is leap or not, call the function for few sample years and record the output"
   ]
  },
  {
   "cell_type": "code",
   "execution_count": 7,
   "metadata": {},
   "outputs": [
    {
     "name": "stdout",
     "output_type": "stream",
     "text": [
      "False\n",
      "False\n",
      "True\n"
     ]
    }
   ],
   "source": [
    "def isLeapYear(Year):\n",
    "        if (Year%4==0 and Year%100!=0) or (Year%400==0):\n",
    "                return True        \n",
    "        else:\n",
    "                return False\n",
    "print(isLeapYear(100))\n",
    "print(isLeapYear(1400))\n",
    "print(isLeapYear(201200))"
   ]
  },
  {
   "cell_type": "markdown",
   "metadata": {},
   "source": [
    "##### Hint : \n",
    "        The year can be evenly divided by 4, is a leap year, unless:\n",
    "            The year can be evenly divided by 100, it is NOT a leap year, unless:\n",
    "                    The year is also evenly divisible by 400. Then it is a leap year."
   ]
  },
  {
   "cell_type": "markdown",
   "metadata": {},
   "source": [
    "### Download the brazilian-ecommerce dataset from the link https://www.kaggle.com/olistbr/brazilian-ecommerce, the link needs you to login o kaggle to download the dataset. Extract the CSV files out of it"
   ]
  },
  {
   "cell_type": "markdown",
   "metadata": {},
   "source": [
    "### Import Pandas and read the orders, customers and review datasets into individual dataframes"
   ]
  },
  {
   "cell_type": "code",
   "execution_count": 10,
   "metadata": {},
   "outputs": [],
   "source": [
    "import pandas as pd\n",
    "import numpy as np\n",
    "df_be_orders=pd.read_csv('brazilian-ecommerce/olist_orders_dataset.csv' ,parse_dates=['order_purchase_timestamp', 'order_approved_at',\n",
    "       'order_delivered_carrier_date', 'order_delivered_customer_date',\n",
    "       'order_estimated_delivery_date'])\n",
    "df_be_customers=pd.read_csv('brazilian-ecommerce/olist_customers_dataset.csv')\n",
    "df_be_reviews=pd.read_csv('brazilian-ecommerce/olist_order_reviews_dataset.csv',parse_dates=['review_creation_date','review_answer_timestamp'])"
   ]
  },
  {
   "cell_type": "markdown",
   "metadata": {},
   "source": [
    "### From the orders dataset, Display the number of NULL values in each field"
   ]
  },
  {
   "cell_type": "code",
   "execution_count": 11,
   "metadata": {},
   "outputs": [
    {
     "data": {
      "text/plain": [
       "order_id                            0\n",
       "customer_id                         0\n",
       "order_status                        0\n",
       "order_purchase_timestamp            0\n",
       "order_approved_at                 160\n",
       "order_delivered_carrier_date     1783\n",
       "order_delivered_customer_date    2965\n",
       "order_estimated_delivery_date       0\n",
       "dtype: int64"
      ]
     },
     "execution_count": 11,
     "metadata": {},
     "output_type": "execute_result"
    }
   ],
   "source": [
    "df_be_orders.isnull().sum()"
   ]
  },
  {
   "cell_type": "markdown",
   "metadata": {},
   "source": [
    "### From the orders dataset, find out the number of orders per each order status"
   ]
  },
  {
   "cell_type": "code",
   "execution_count": 12,
   "metadata": {},
   "outputs": [
    {
     "data": {
      "text/plain": [
       "delivered      96478\n",
       "shipped         1107\n",
       "canceled         625\n",
       "unavailable      609\n",
       "invoiced         314\n",
       "processing       301\n",
       "created            5\n",
       "approved           2\n",
       "Name: order_status, dtype: int64"
      ]
     },
     "execution_count": 12,
     "metadata": {},
     "output_type": "execute_result"
    }
   ],
   "source": [
    "df_be_orders['order_status'].value_counts()"
   ]
  },
  {
   "cell_type": "markdown",
   "metadata": {},
   "source": [
    "### From the orders dataset, find out the number of orders delivered before the estimated delivery date"
   ]
  },
  {
   "cell_type": "code",
   "execution_count": 13,
   "metadata": {},
   "outputs": [
    {
     "name": "stdout",
     "output_type": "stream",
     "text": [
      "Number of orders delivered before the estimated delivery date : 87182\n"
     ]
    }
   ],
   "source": [
    "df_delivered=df_be_orders[df_be_orders['order_status']=='delivered']\n",
    "df_delivered=df_delivered[(df_delivered['order_estimated_delivery_date'] -df_delivered['order_delivered_customer_date']).dt.days>0]\n",
    "\n",
    "print(\"Number of orders delivered before the estimated delivery date : {0:d}\".format(df_delivered.shape[0]))"
   ]
  },
  {
   "cell_type": "markdown",
   "metadata": {},
   "source": [
    "### From the orders and customers dataset, find out the top 5 states where customers placed maximum number of orders"
   ]
  },
  {
   "cell_type": "code",
   "execution_count": 15,
   "metadata": {},
   "outputs": [
    {
     "name": "stdout",
     "output_type": "stream",
     "text": [
      "Top 5 states are : SP RJ MG RS PR\n"
     ]
    }
   ],
   "source": [
    "df_cust_ord=pd.merge(df_be_orders,df_be_customers)\n",
    "df_cust_top_5=df_cust_ord['customer_state'].value_counts()[:5].index.to_list()\n",
    "print(\"Top 5 states are :\" ,(*df_cust_top_5))"
   ]
  },
  {
   "cell_type": "markdown",
   "metadata": {},
   "source": [
    "### For the top state from above answer, find out the percentage ratio for each order status"
   ]
  },
  {
   "cell_type": "code",
   "execution_count": 16,
   "metadata": {},
   "outputs": [
    {
     "name": "stdout",
     "output_type": "stream",
     "text": [
      "Percentage Ratio: of SP \n",
      "\n",
      "delivered      97.017678\n",
      "shipped         0.785704\n",
      "canceled        0.783309\n",
      "unavailable     0.699468\n",
      "invoiced        0.383270\n",
      "processing      0.325780\n",
      "created         0.002395\n",
      "approved        0.002395\n",
      "Name: order_status, dtype: float64\n"
     ]
    }
   ],
   "source": [
    "mask=(df_cust_ord['customer_state']==df_cust_top_5[0])\n",
    "df_top_perct=(df_be_orders[mask]['order_status'].value_counts()/len(df_be_orders[mask])*100)\n",
    "print(\"Percentage Ratio: of {0} \\n\".format(df_cust_top_5[0]))\n",
    "print(df_top_perct)"
   ]
  },
  {
   "cell_type": "markdown",
   "metadata": {},
   "source": [
    "### Draw suitable graph using matplotlib to represent above answer"
   ]
  },
  {
   "cell_type": "code",
   "execution_count": 19,
   "metadata": {},
   "outputs": [
    {
     "data": {
      "image/png": "[encoded data removed]",
      "text/plain": [
       "<Figure size 432x288 with 1 Axes>"
      ]
     },
     "metadata": {
      "needs_background": "light"
     },
     "output_type": "display_data"
    }
   ],
   "source": [
    "import matplotlib.pyplot as plt\n",
    "df_top_perct.plot(kind=\"barh\",alpha=0.25)\n",
    "plt.xscale('log')\n",
    "plt.title('Percentage Ratio of SP ')\n",
    "plt.xlabel('Logarithmic Scale for Percentage Ratio for each order status')\n",
    "plt.ylabel('Order status')\n",
    "plt.grid(True)"
   ]
  },
  {
   "cell_type": "markdown",
   "metadata": {},
   "source": [
    "### In the orders dataset, Derive year, month and day from the the column \"order_purchase_timestamp\" using apply() function"
   ]
  },
  {
   "cell_type": "code",
   "execution_count": 20,
   "metadata": {},
   "outputs": [],
   "source": [
    "df_be_orders['order_purchase_timestamp']=df_be_orders['order_purchase_timestamp'].apply(lambda x: x.date())"
   ]
  },
  {
   "cell_type": "markdown",
   "metadata": {},
   "source": [
    "### Drop the column \"order_approved_at\" from orders dataset"
   ]
  },
  {
   "cell_type": "code",
   "execution_count": 21,
   "metadata": {},
   "outputs": [],
   "source": [
    "df_be_orders=df_be_orders.drop('order_approved_at',axis=1)"
   ]
  },
  {
   "cell_type": "markdown",
   "metadata": {},
   "source": [
    "### From the three datasets, find out the top 5 cities where customers gave minimum review score"
   ]
  },
  {
   "cell_type": "code",
   "execution_count": 29,
   "metadata": {},
   "outputs": [
    {
     "name": "stdout",
     "output_type": "stream",
     "text": [
      "(100000, 7) (99441, 7) (99441, 5)\n",
      "(99441, 7) (99441, 7) (99441, 5)\n",
      "Top 5 cities who have given minimum review score\n"
     ]
    },
    {
     "data": {
      "text/plain": [
       "sao paulo         1644\n",
       "rio de janeiro    1177\n",
       "belo horizonte     312\n",
       "brasilia           259\n",
       "salvador           242\n",
       "Name: customer_city, dtype: int64"
      ]
     },
     "execution_count": 29,
     "metadata": {},
     "output_type": "execute_result"
    }
   ],
   "source": [
    "#Shape of Reviews has mismatch\n",
    "print(df_be_reviews.shape, df_be_orders.shape ,df_be_customers.shape)\n",
    "#The difference is due to the fact that same order id was reviewed multiple times by the user\n",
    "#Hence we will find the reviews of the most recent review_answer_timestamp of [df_be_reviews] column\n",
    "df_be_reviews_max=df_be_reviews.groupby('order_id').agg({\"review_answer_timestamp\":\"max\"}).reset_index()\n",
    "#Once done we need to rename the column and do merge to reduce the size to 99441\n",
    "df_be_reviews_max.columns=['order_id','review_answer_timestamp']\n",
    "df_reviews_correct=pd.merge(df_be_reviews,df_be_reviews_max)\n",
    "#Shape of Reviews after correction\n",
    "print(df_reviews_correct.shape, df_be_orders.shape ,df_be_customers.shape)\n",
    "\n",
    "#Now we will merge three tables and find the top 5 cities where customer gave minimum review score\n",
    "min_rev_score=pd.merge(df_reviews_correct,df_cust_ord)\n",
    "print(\"Top 5 cities who have given minimum review score\")\n",
    "min_rev_score[min_rev_score['review_score']==min_rev_score.review_score.min()]['customer_city'].value_counts()[:5]"
   ]
  },
  {
   "cell_type": "markdown",
   "metadata": {},
   "source": [
    "### Export all the orders from order datasets for above 5 cities into a csv file"
   ]
  },
  {
   "cell_type": "code",
   "execution_count": 30,
   "metadata": {},
   "outputs": [],
   "source": [
    "cust_city=min_rev_score[min_rev_score['review_score']==min_rev_score.review_score.min()]['customer_city'].value_counts()[:5].index.to_list()\n",
    "df_be_orders=df_be_orders[df_be_orders['customer_id'].isin(df_be_customers[df_be_customers['customer_city'].isin(cust_city)]['customer_id'].values)]\n",
    "df_be_orders.to_csv(\"olist_orders.csv\")"
   ]
  },
  {
   "cell_type": "code",
   "execution_count": null,
   "metadata": {},
   "outputs": [],
   "source": []
  }
 ],
 "metadata": {
  "kernelspec": {
   "display_name": "Python 3",
   "language": "python",
   "name": "python3"
  },
  "language_info": {
   "codemirror_mode": {
    "name": "ipython",
    "version": 3
   },
   "file_extension": ".py",
   "mimetype": "text/x-python",
   "name": "python",
   "nbconvert_exporter": "python",
   "pygments_lexer": "ipython3",
   "version": "3.6.8"
  }
 },
 "nbformat": 4,
 "nbformat_minor": 2
}
